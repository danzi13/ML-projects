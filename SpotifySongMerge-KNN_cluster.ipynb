{
  "nbformat": 4,
  "nbformat_minor": 0,
  "metadata": {
    "colab": {
      "name": "Copy of Spotify_Song_Merger (KNN cluster) ",
      "provenance": [],
      "authorship_tag": "ABX9TyPhlCR0BKRdmFYQxSRKGwim",
      "include_colab_link": true
    },
    "kernelspec": {
      "name": "python3",
      "display_name": "Python 3"
    },
    "language_info": {
      "name": "python"
    }
  },
  "cells": [
    {
      "cell_type": "markdown",
      "metadata": {
        "id": "view-in-github",
        "colab_type": "text"
      },
      "source": [
        "<a href=\"https://colab.research.google.com/github/danzi13/ML-projects/blob/main/SpotifySongMerge-KNN_cluster.ipynb\" target=\"_parent\"><img src=\"https://colab.research.google.com/assets/colab-badge.svg\" alt=\"Open In Colab\"/></a>"
      ]
    },
    {
      "cell_type": "code",
      "source": [
        "!pip install spotipy\n",
        "!pip install requests"
      ],
      "metadata": {
        "colab": {
          "base_uri": "https://localhost:8080/"
        },
        "id": "Mg3mUNff9-OE",
        "outputId": "7626a29c-b183-433e-ae82-81fc71c5c540"
      },
      "execution_count": null,
      "outputs": [
        {
          "output_type": "stream",
          "name": "stdout",
          "text": [
            "Looking in indexes: https://pypi.org/simple, https://us-python.pkg.dev/colab-wheels/public/simple/\n",
            "Collecting spotipy\n",
            "  Downloading spotipy-2.20.0-py3-none-any.whl (27 kB)\n",
            "Requirement already satisfied: six>=1.15.0 in /usr/local/lib/python3.7/dist-packages (from spotipy) (1.15.0)\n",
            "Collecting requests>=2.25.0\n",
            "  Downloading requests-2.28.1-py3-none-any.whl (62 kB)\n",
            "\u001b[K     |████████████████████████████████| 62 kB 1.2 MB/s \n",
            "\u001b[?25hCollecting urllib3>=1.26.0\n",
            "  Downloading urllib3-1.26.10-py2.py3-none-any.whl (139 kB)\n",
            "\u001b[K     |████████████████████████████████| 139 kB 15.9 MB/s \n",
            "\u001b[?25hCollecting redis>=3.5.3\n",
            "  Downloading redis-4.3.4-py3-none-any.whl (246 kB)\n",
            "\u001b[K     |████████████████████████████████| 246 kB 23.9 MB/s \n",
            "\u001b[?25hRequirement already satisfied: packaging>=20.4 in /usr/local/lib/python3.7/dist-packages (from redis>=3.5.3->spotipy) (21.3)\n",
            "Collecting async-timeout>=4.0.2\n",
            "  Downloading async_timeout-4.0.2-py3-none-any.whl (5.8 kB)\n",
            "Requirement already satisfied: typing-extensions in /usr/local/lib/python3.7/dist-packages (from redis>=3.5.3->spotipy) (4.1.1)\n",
            "Requirement already satisfied: importlib-metadata>=1.0 in /usr/local/lib/python3.7/dist-packages (from redis>=3.5.3->spotipy) (4.12.0)\n",
            "Collecting deprecated>=1.2.3\n",
            "  Downloading Deprecated-1.2.13-py2.py3-none-any.whl (9.6 kB)\n",
            "Requirement already satisfied: wrapt<2,>=1.10 in /usr/local/lib/python3.7/dist-packages (from deprecated>=1.2.3->redis>=3.5.3->spotipy) (1.14.1)\n",
            "Requirement already satisfied: zipp>=0.5 in /usr/local/lib/python3.7/dist-packages (from importlib-metadata>=1.0->redis>=3.5.3->spotipy) (3.8.0)\n",
            "Requirement already satisfied: pyparsing!=3.0.5,>=2.0.2 in /usr/local/lib/python3.7/dist-packages (from packaging>=20.4->redis>=3.5.3->spotipy) (3.0.9)\n",
            "Requirement already satisfied: charset-normalizer<3,>=2 in /usr/local/lib/python3.7/dist-packages (from requests>=2.25.0->spotipy) (2.1.0)\n",
            "Requirement already satisfied: idna<4,>=2.5 in /usr/local/lib/python3.7/dist-packages (from requests>=2.25.0->spotipy) (2.10)\n",
            "Requirement already satisfied: certifi>=2017.4.17 in /usr/local/lib/python3.7/dist-packages (from requests>=2.25.0->spotipy) (2022.6.15)\n",
            "Installing collected packages: urllib3, deprecated, async-timeout, requests, redis, spotipy\n",
            "  Attempting uninstall: urllib3\n",
            "    Found existing installation: urllib3 1.24.3\n",
            "    Uninstalling urllib3-1.24.3:\n",
            "      Successfully uninstalled urllib3-1.24.3\n",
            "  Attempting uninstall: requests\n",
            "    Found existing installation: requests 2.23.0\n",
            "    Uninstalling requests-2.23.0:\n",
            "      Successfully uninstalled requests-2.23.0\n",
            "\u001b[31mERROR: pip's dependency resolver does not currently take into account all the packages that are installed. This behaviour is the source of the following dependency conflicts.\n",
            "google-colab 1.0.0 requires requests~=2.23.0, but you have requests 2.28.1 which is incompatible.\n",
            "datascience 0.10.6 requires folium==0.2.1, but you have folium 0.8.3 which is incompatible.\u001b[0m\n",
            "Successfully installed async-timeout-4.0.2 deprecated-1.2.13 redis-4.3.4 requests-2.28.1 spotipy-2.20.0 urllib3-1.26.10\n",
            "Looking in indexes: https://pypi.org/simple, https://us-python.pkg.dev/colab-wheels/public/simple/\n",
            "Requirement already satisfied: requests in /usr/local/lib/python3.7/dist-packages (2.28.1)\n",
            "Requirement already satisfied: idna<4,>=2.5 in /usr/local/lib/python3.7/dist-packages (from requests) (2.10)\n",
            "Requirement already satisfied: urllib3<1.27,>=1.21.1 in /usr/local/lib/python3.7/dist-packages (from requests) (1.26.10)\n",
            "Requirement already satisfied: charset-normalizer<3,>=2 in /usr/local/lib/python3.7/dist-packages (from requests) (2.1.0)\n",
            "Requirement already satisfied: certifi>=2017.4.17 in /usr/local/lib/python3.7/dist-packages (from requests) (2022.6.15)\n"
          ]
        }
      ]
    },
    {
      "cell_type": "code",
      "source": [
        "import requests\n",
        "import datetime\n",
        "import base64\n",
        "import json\n",
        "import random\n",
        "import numpy as np\n",
        "import pandas as pd\n",
        "\n",
        "import spotipy.util as util\n",
        "import spotipy\n",
        "import yaml\n",
        "from spotipy.oauth2 import SpotifyOAuth\n"
      ],
      "metadata": {
        "id": "N8VXpaVTk3uk"
      },
      "execution_count": null,
      "outputs": []
    },
    {
      "cell_type": "code",
      "source": [
        "client_id = \"************\"\n",
        "client_secret = \"************\"\n",
        "username = \"***********\""
      ],
      "metadata": {
        "id": "EUJP1bfZqAIf"
      },
      "execution_count": null,
      "outputs": []
    },
    {
      "cell_type": "code",
      "execution_count": null,
      "metadata": {
        "id": "vQXLEie8wnZj"
      },
      "outputs": [],
      "source": [
        "scope = \"user-library-read user-follow-read user-top-read playlist-read-private\"\n",
        "redirect_uri = \"http://localhost:8888/callback\"\n",
        "\n",
        "sp = spotipy.Spotify(auth_manager=SpotifyOAuth(client_id=client_id,\n",
        "                                               client_secret=client_secret,\n",
        "                                               redirect_uri=redirect_uri,\n",
        "                                               scope=scope, \n",
        "                                               username=username,\n",
        "                                               open_browser=False))\n",
        "\n"
      ]
    },
    {
      "cell_type": "code",
      "source": [
        "playlist_id = 'https://open.spotify.com/playlist/______________'\n",
        "#playlist 1 \n",
        "\n",
        "playlist2_id = 'https://open.spotify.com/playlist/______________'\n",
        "#playlist 2\n",
        "\n",
        "#gotten from share playlist link on spotify "
      ],
      "metadata": {
        "id": "QKa98dxRx9TW"
      },
      "execution_count": null,
      "outputs": []
    },
    {
      "cell_type": "code",
      "source": [
        "playlist_tracks = sp.playlist(playlist_id)\n",
        "playlist2_tracks = sp.playlist(playlist2_id)"
      ],
      "metadata": {
        "colab": {
          "base_uri": "https://localhost:8080/"
        },
        "id": "Qwht7SUPqWgE",
        "outputId": "fee98ad6-e253-4590-c34f-98e55548e3d0"
      },
      "execution_count": null,
      "outputs": [
        {
          "name": "stdout",
          "output_type": "stream",
          "text": [
            "Go to the following URL: https://accounts.spotify.com/authorize?client_id=7d469221b1f342c98d50f94bcf0ffb9c&response_type=code&redirect_uri=http%3A%2F%2Flocalhost%3A8888%2Fcallback&scope=user-library-read+user-follow-read+user-top-read+playlist-read-private\n",
            "Enter the URL you were redirected to: http://localhost:8888/callback?code=AQBBxkzixxEZ2sGIcsOPBlk81dVZGuYKKD6dHjHYzSZAQrw1IoiMO7Z-bJKflX8lucR8Zdy4-6BkCL_oqxC8xhq_Ox3GME7IGei_Z7BkmpNzLjHseiS2zkep9khvggGsMgGzWMxd3ON-bcPErF3sd6L5ZF0L7hLxm1Zzvv222CmaaBalBsAEyKEBKE5FXtjQRuYnqPcrHpfXEnfx_8OJkBMwAAYaS6IfiPjaO_4aLKGf9bsRJGESt9xM9O4FNMyVPvZAqVkBBaugSjJyVg\n"
          ]
        }
      ]
    },
    {
      "cell_type": "code",
      "source": [
        "songIDs, songIDs2 = [], []\n",
        "\n",
        "#Find the name, artist, and ID for each song in the playlist\n",
        "\n",
        "for i in range(len(playlist_tracks['tracks']['items'])):\n",
        "  songIDs.append(playlist_tracks['tracks']['items'][i]['track']['id']) #Append song IDs to a list\n",
        "\n",
        "for i in range(len(playlist2_tracks['tracks']['items'])):\n",
        "  songIDs2.append(playlist2_tracks['tracks']['items'][i]['track']['id']) #Append song IDs to a list"
      ],
      "metadata": {
        "id": "tTD0hn414ust"
      },
      "execution_count": null,
      "outputs": []
    },
    {
      "cell_type": "code",
      "source": [
        "if len(songIDs) < len(songIDs2):\n",
        "  min_length = len(songIDs)\n",
        "else:\n",
        "  min_length = len(songIDs2)\n",
        "\n",
        "#finding min of songs in playlists"
      ],
      "metadata": {
        "id": "sEhoMz9Uuk76"
      },
      "execution_count": null,
      "outputs": []
    },
    {
      "cell_type": "code",
      "source": [
        "random.shuffle(songIDs)\n",
        "random.shuffle(songIDs2)\n",
        "\n",
        "#shuffle for song recommendations"
      ],
      "metadata": {
        "id": "o0rcBufv7jvf"
      },
      "execution_count": null,
      "outputs": []
    },
    {
      "cell_type": "code",
      "source": [
        "features_list = []\n",
        "\n",
        "#getting features of each song\n",
        "\n",
        "for i in range(min_length):\n",
        "  thing = sp.audio_features(songIDs[i])\n",
        "  thing2 = sp.audio_features(songIDs2[i])\n",
        "  \n",
        "  for features in thing: #save each feature in the audio features json dict\n",
        "    features_list.append([features['energy'], features['liveness'], features['tempo'], features['speechiness'], features['acousticness'], features['instrumentalness'],\n",
        "                          features['time_signature'], features['danceability'], features['key'], features['duration_ms'], features['loudness'], features['valence'], \n",
        "                          features['mode'],0])\n",
        "\n",
        "  for features2 in thing2: #save each feature in the audio features json dict\n",
        "    features_list.append([features2['energy'], features2['liveness'], features2['tempo'], features2['speechiness'], features2['acousticness'], features2['instrumentalness'],\n",
        "                          features2['time_signature'], features2['danceability'], features2['key'], features2['duration_ms'], features2['loudness'], features2['valence'], \n",
        "                          features2['mode'],1])\n",
        "\n",
        "#Read features into a df\n",
        "df = pd.DataFrame(features_list, columns=['energy', 'liveness', 'tempo', 'speechiness', 'acousticness', 'instrumentalness', 'time_signature', 'danceability', 'key', 'duration_ms', \n",
        "                                          'loudness', 'valence', 'mode','rating'])\n"
      ],
      "metadata": {
        "id": "KS-1a0vovrz7"
      },
      "execution_count": null,
      "outputs": []
    },
    {
      "cell_type": "code",
      "source": [
        "X = df[['energy', 'liveness', 'tempo', 'speechiness', 'acousticness', 'instrumentalness', \n",
        "        'time_signature', 'danceability', 'key', 'duration_ms', \n",
        "                        'loudness', 'valence', 'mode']] \n",
        "\n",
        "y = df['rating']\n",
        "\n",
        "X = X.dropna()\n",
        "y = y.dropna()"
      ],
      "metadata": {
        "id": "AriaK_p6Gk4F"
      },
      "execution_count": null,
      "outputs": []
    },
    {
      "cell_type": "code",
      "source": [
        "from sklearn.model_selection import train_test_split\n",
        "from sklearn.neighbors import KNeighborsRegressor"
      ],
      "metadata": {
        "id": "qH1azPYd57Gq"
      },
      "execution_count": null,
      "outputs": []
    },
    {
      "cell_type": "code",
      "source": [
        "X_train, X_test, y_train, y_test = train_test_split(X, y, test_size=0.2, random_state=15)"
      ],
      "metadata": {
        "id": "Lt84hmKZkwQa"
      },
      "execution_count": null,
      "outputs": []
    },
    {
      "cell_type": "code",
      "source": [
        "knn_model = KNeighborsRegressor(n_neighbors=20)\n",
        "\n",
        "knn_model.fit(X_train, y_train)"
      ],
      "metadata": {
        "colab": {
          "base_uri": "https://localhost:8080/"
        },
        "id": "Sa6WcjA95qIu",
        "outputId": "1db485a7-ca5a-4620-d215-b09ee8209c92"
      },
      "execution_count": null,
      "outputs": [
        {
          "output_type": "execute_result",
          "data": {
            "text/plain": [
              "KNeighborsRegressor(n_neighbors=20)"
            ]
          },
          "metadata": {},
          "execution_count": 25
        }
      ]
    },
    {
      "cell_type": "code",
      "source": [
        "#StratifiedKFold, GridSearchCV\n",
        "from sklearn.neighbors import KNeighborsClassifier\n",
        "from sklearn.metrics import classification_report"
      ],
      "metadata": {
        "id": "PrvzMRnnZmx_"
      },
      "execution_count": null,
      "outputs": []
    },
    {
      "cell_type": "code",
      "source": [
        "number = 4 #set amount of total songs gathered (number * 5 = total)"
      ],
      "metadata": {
        "id": "-RkF17tM8gq3"
      },
      "execution_count": null,
      "outputs": []
    },
    {
      "cell_type": "code",
      "source": [
        "complete_songID = []\n",
        "features_list2 = []\n",
        "\n",
        "for i in range(number):\n",
        "  recommendations1 = sp.recommendations(seed_tracks = songIDs[i*5:5+(5*i)]) \n",
        "  recommendations2 = sp.recommendations(seed_tracks = songIDs2[i*5:5+(5*i)]) \n",
        "\n",
        "  for i in range(20): \n",
        "      complete_songID.append(recommendations1['tracks'][i]['id'])\n",
        "      complete_songID.append(recommendations2['tracks'][i]['id'])\n",
        "\n",
        "for i in range(len(complete_songID)): #for each song in the user's playlist\n",
        "  thing = sp.audio_features(complete_songID[i])\n",
        "  \n",
        "  for features in thing: #save each feature in the audio features json dict\n",
        "    features_list2.append([features['energy'], features['liveness'], features['tempo'], features['speechiness'], features['acousticness'], features['instrumentalness'],\n",
        "                          features['time_signature'], features['danceability'], features['key'], features['duration_ms'], features['loudness'], features['valence'], \n",
        "                          features['mode']])\n",
        "\n",
        "#Read features into a df\n",
        "rec_df = pd.DataFrame(features_list2, columns=['energy', 'liveness', 'tempo', 'speechiness', 'acousticness', 'instrumentalness', 'time_signature', 'danceability', 'key', 'duration_ms', \n",
        "                                          'loudness', 'valence', 'mode'])\n",
        "\n"
      ],
      "metadata": {
        "id": "0E3NRSKX6Y1Z"
      },
      "execution_count": null,
      "outputs": []
    },
    {
      "cell_type": "code",
      "source": [
        "y_pred = knn_model.predict(rec_df)"
      ],
      "metadata": {
        "id": "ZL21qNBMx_U9"
      },
      "execution_count": null,
      "outputs": []
    },
    {
      "cell_type": "code",
      "source": [
        "scope = \"playlist-modify-private\"\n",
        "\n",
        "sp = spotipy.Spotify(auth_manager=SpotifyOAuth(client_id=client_id,\n",
        "                                               client_secret=client_secret,\n",
        "                                               redirect_uri=redirect_uri,\n",
        "                                               scope=scope, \n",
        "                                               username=username,\n",
        "                                               open_browser=False))\n",
        "\n",
        "# Create a new playlist for tracks to add - you may also add these tracks to your source playlist and proceed\n",
        "new_playlist = sp.user_playlist_create(user=username, \n",
        "                                       name=\"spotify-merged-playlist\",\n",
        "                                       public=False, \n",
        "                                       collaborative=False, \n",
        "                                       description=\"Created by https://github.com/danzi13\",\n",
        "                                      )\n",
        "\n"
      ],
      "metadata": {
        "id": "hrPVePlx6wLD",
        "colab": {
          "base_uri": "https://localhost:8080/"
        },
        "outputId": "68983995-fd10-4a5b-c13a-93d9ec86ce1a"
      },
      "execution_count": null,
      "outputs": [
        {
          "name": "stdout",
          "output_type": "stream",
          "text": [
            "Go to the following URL: https://accounts.spotify.com/authorize?client_id=7d469221b1f342c98d50f94bcf0ffb9c&response_type=code&redirect_uri=http%3A%2F%2Flocalhost%3A8888%2Fcallback&scope=playlist-modify-private\n",
            "Enter the URL you were redirected to: http://localhost:8888/callback?code=AQCTrH7t5yhyNjylum0Bwbzjr31g2E8gdF7hjkZM9gO01XzL43KkSc2jLxkBLTMGPs8xmIckrE9Y4FjmzucTdGYVF1ZSSMsAscexpZMyRLXgrhjqClp7swzWmmBoR3Uh36yi-NurS4TXcxZO82az9b97cshDDzml2X8uppSxxD2L6EtBIpnynbou1Xe35dcadKnoqlSsg2NY5To\n"
          ]
        }
      ]
    },
    {
      "cell_type": "code",
      "source": [
        "for i in range(len(complete_songID)):\n",
        "    #if in ML middle, add to playlist\n",
        "    if(y_pred[i] >= .4):\n",
        "      if(y_pred[i] <= .6):\n",
        "        sp.user_playlist_add_tracks(user=username, \n",
        "                                playlist_id=new_playlist['id'], \n",
        "                                tracks=[complete_songID[i]],\n",
        "                               );"
      ],
      "metadata": {
        "id": "uinaCqEb-AeJ"
      },
      "execution_count": null,
      "outputs": []
    }
  ]
}