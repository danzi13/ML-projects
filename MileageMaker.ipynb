{
  "nbformat": 4,
  "nbformat_minor": 0,
  "metadata": {
    "colab": {
      "name": "Copy of Strava_Mileage_Maker",
      "provenance": [],
      "authorship_tag": "ABX9TyPIhXaD8CR4+EVNjTaOBnYa",
      "include_colab_link": true
    },
    "kernelspec": {
      "name": "python3",
      "display_name": "Python 3"
    },
    "language_info": {
      "name": "python"
    }
  },
  "cells": [
    {
      "cell_type": "markdown",
      "metadata": {
        "id": "view-in-github",
        "colab_type": "text"
      },
      "source": [
        "<a href=\"https://colab.research.google.com/github/danzi13/PlaylistMerge-KNN-cluster/blob/main/MileageMaker.ipynb\" target=\"_parent\"><img src=\"https://colab.research.google.com/assets/colab-badge.svg\" alt=\"Open In Colab\"/></a>"
      ]
    },
    {
      "cell_type": "code",
      "source": [
        "!pip install stravaio folium"
      ],
      "metadata": {
        "colab": {
          "base_uri": "https://localhost:8080/"
        },
        "id": "2qnhx-hK-F-B",
        "outputId": "6f4179fc-65f6-4750-f3d5-34feaab02034"
      },
      "execution_count": null,
      "outputs": [
        {
          "output_type": "stream",
          "name": "stdout",
          "text": [
            "Looking in indexes: https://pypi.org/simple, https://us-python.pkg.dev/colab-wheels/public/simple/\n",
            "Collecting stravaio\n",
            "  Downloading stravaio-0.0.9-py2.py3-none-any.whl (154 kB)\n",
            "\u001b[K     |████████████████████████████████| 154 kB 5.9 MB/s \n",
            "\u001b[?25hRequirement already satisfied: folium in /usr/local/lib/python3.7/dist-packages (0.8.3)\n",
            "Requirement already satisfied: urllib3 in /usr/local/lib/python3.7/dist-packages (from stravaio) (1.24.3)\n",
            "Collecting loguru\n",
            "  Downloading loguru-0.6.0-py3-none-any.whl (58 kB)\n",
            "\u001b[K     |████████████████████████████████| 58 kB 1.8 MB/s \n",
            "\u001b[?25hCollecting maya\n",
            "  Downloading maya-0.6.1-py2.py3-none-any.whl (12 kB)\n",
            "Requirement already satisfied: certifi in /usr/local/lib/python3.7/dist-packages (from stravaio) (2022.6.15)\n",
            "Requirement already satisfied: requests in /usr/local/lib/python3.7/dist-packages (from stravaio) (2.23.0)\n",
            "Requirement already satisfied: pandas in /usr/local/lib/python3.7/dist-packages (from stravaio) (1.3.5)\n",
            "Requirement already satisfied: pyarrow in /usr/local/lib/python3.7/dist-packages (from stravaio) (6.0.1)\n",
            "Requirement already satisfied: jinja2 in /usr/local/lib/python3.7/dist-packages (from folium) (2.11.3)\n",
            "Requirement already satisfied: six in /usr/local/lib/python3.7/dist-packages (from folium) (1.15.0)\n",
            "Requirement already satisfied: branca>=0.3.0 in /usr/local/lib/python3.7/dist-packages (from folium) (0.5.0)\n",
            "Requirement already satisfied: numpy in /usr/local/lib/python3.7/dist-packages (from folium) (1.21.6)\n",
            "Requirement already satisfied: MarkupSafe>=0.23 in /usr/local/lib/python3.7/dist-packages (from jinja2->folium) (2.0.1)\n",
            "Requirement already satisfied: pytz in /usr/local/lib/python3.7/dist-packages (from maya->stravaio) (2022.1)\n",
            "Collecting pendulum>=2.0.2\n",
            "  Downloading pendulum-2.1.2-cp37-cp37m-manylinux1_x86_64.whl (155 kB)\n",
            "\u001b[K     |████████████████████████████████| 155 kB 22.9 MB/s \n",
            "\u001b[?25hCollecting snaptime\n",
            "  Downloading snaptime-0.2.4.tar.gz (2.9 kB)\n",
            "Requirement already satisfied: humanize in /usr/local/lib/python3.7/dist-packages (from maya->stravaio) (0.5.1)\n",
            "Requirement already satisfied: tzlocal in /usr/local/lib/python3.7/dist-packages (from maya->stravaio) (1.5.1)\n",
            "Collecting dateparser>=0.7.0\n",
            "  Downloading dateparser-1.1.1-py2.py3-none-any.whl (288 kB)\n",
            "\u001b[K     |████████████████████████████████| 288 kB 40.0 MB/s \n",
            "\u001b[?25hCollecting regex!=2019.02.19,!=2021.8.27,<2022.3.15\n",
            "  Downloading regex-2022.3.2-cp37-cp37m-manylinux_2_17_x86_64.manylinux2014_x86_64.whl (749 kB)\n",
            "\u001b[K     |████████████████████████████████| 749 kB 39.1 MB/s \n",
            "\u001b[?25hRequirement already satisfied: python-dateutil in /usr/local/lib/python3.7/dist-packages (from dateparser>=0.7.0->maya->stravaio) (2.8.2)\n",
            "Collecting pytzdata>=2020.1\n",
            "  Downloading pytzdata-2020.1-py2.py3-none-any.whl (489 kB)\n",
            "\u001b[K     |████████████████████████████████| 489 kB 42.5 MB/s \n",
            "\u001b[?25hRequirement already satisfied: idna<3,>=2.5 in /usr/local/lib/python3.7/dist-packages (from requests->stravaio) (2.10)\n",
            "Requirement already satisfied: chardet<4,>=3.0.2 in /usr/local/lib/python3.7/dist-packages (from requests->stravaio) (3.0.4)\n",
            "Building wheels for collected packages: snaptime\n",
            "  Building wheel for snaptime (setup.py) ... \u001b[?25l\u001b[?25hdone\n",
            "  Created wheel for snaptime: filename=snaptime-0.2.4-py3-none-any.whl size=3593 sha256=fb32befc2aacc16ab1f1bccd8190bb803bd9ad8050088f3e7a9a91ae3f8e0455\n",
            "  Stored in directory: /root/.cache/pip/wheels/e5/f2/0e/994dee3bb4e289095bfd938b21e542c8fd09e35a4d5fae6b06\n",
            "Successfully built snaptime\n",
            "Installing collected packages: regex, pytzdata, snaptime, pendulum, dateparser, maya, loguru, stravaio\n",
            "  Attempting uninstall: regex\n",
            "    Found existing installation: regex 2022.6.2\n",
            "    Uninstalling regex-2022.6.2:\n",
            "      Successfully uninstalled regex-2022.6.2\n",
            "Successfully installed dateparser-1.1.1 loguru-0.6.0 maya-0.6.1 pendulum-2.1.2 pytzdata-2020.1 regex-2022.3.2 snaptime-0.2.4 stravaio-0.0.9\n"
          ]
        }
      ]
    },
    {
      "cell_type": "code",
      "source": [
        "import os\n",
        "import logging\n",
        "import json\n",
        "import urllib\n",
        "import requests\n",
        "import folium\n",
        "from stravaio import StravaIO\n",
        "import requests\n",
        "import urllib3\n",
        "urllib3.disable_warnings(urllib3.exceptions.InsecureRequestWarning)\n",
        "from datetime import date\n",
        "import time\n",
        "import webbrowser"
      ],
      "metadata": {
        "id": "xY2Ii816-Bxv"
      },
      "execution_count": null,
      "outputs": []
    },
    {
      "cell_type": "code",
      "source": [
        "client_id = '***'\n",
        "client_secret = '************'\n",
        "refresh_token = '************'\n",
        "access_token = '*************'\n",
        "\n",
        "code = \"************\""
      ],
      "metadata": {
        "id": "5Vlqb2t3K7-I"
      },
      "execution_count": null,
      "outputs": []
    },
    {
      "cell_type": "code",
      "source": [
        "params_oauth = {\n",
        "    \"client_id\": client_id,\n",
        "    \"response_type\": \"code\",\n",
        "    \"redirect_uri\": f\"http://localhost:8000/authorization_successful\",\n",
        "    \"scope\": \"read,profile:read_all,activity:read\",\n",
        "    \"state\": 'https://github.com/sladkovm/strava-http', # Sladkovm is the author of the Stravaio library\n",
        "    \"approval_prompt\": \"force\"\n",
        "}\n",
        "values_url = urllib.parse.urlencode(params_oauth)\n",
        "base_url = 'https://www.strava.com/oauth/authorize'\n",
        "authorize_url = base_url + '?' + values_url\n",
        "print(authorize_url)"
      ],
      "metadata": {
        "colab": {
          "base_uri": "https://localhost:8080/"
        },
        "id": "0OpXH_8o96pK",
        "outputId": "eb243470-97e5-4c0a-ad2b-a990e83fa9e6"
      },
      "execution_count": null,
      "outputs": [
        {
          "output_type": "stream",
          "name": "stdout",
          "text": [
            "https://www.strava.com/oauth/authorize?client_id=87593&response_type=code&redirect_uri=http%3A%2F%2Flocalhost%3A8000%2Fauthorization_successful&scope=read%2Cprofile%3Aread_all%2Cactivity%3Aread&state=https%3A%2F%2Fgithub.com%2Fsladkovm%2Fstrava-http&approval_prompt=force\n"
          ]
        }
      ]
    },
    {
      "cell_type": "code",
      "source": [
        "AUTHORIZATION_CODE = \"*************\""
      ],
      "metadata": {
        "id": "v-O3s5ilBbj8"
      },
      "execution_count": null,
      "outputs": []
    },
    {
      "cell_type": "code",
      "source": [
        "payload = {\n",
        "    \"client_id\": client_id,\n",
        "    \"client_secret\": client_secret,\n",
        "    \"grant_type\": \"authorization_code\",\n",
        "    \"code\": AUTHORIZATION_CODE,\n",
        "}\n",
        "\n",
        "response = requests.request(\n",
        "    \"POST\", \"https://www.strava.com/api/v3/oauth/token\", data=payload\n",
        ")\n",
        "\n",
        "response = json.loads(response.text)\n",
        "TOKEN = response[\"access_token\"]"
      ],
      "metadata": {
        "id": "8wHvOgWbHjgK"
      },
      "execution_count": null,
      "outputs": []
    },
    {
      "cell_type": "code",
      "source": [
        "client = StravaIO(access_token=TOKEN)\n",
        "athlete = client.get_logged_in_athlete()\n",
        "activities = client.get_logged_in_athlete_activities(after='last year')"
      ],
      "metadata": {
        "colab": {
          "base_uri": "https://localhost:8080/"
        },
        "id": "QuFOigbP-hhl",
        "outputId": "bd3eb4dc-5cd3-412e-d750-8d7bd544478b"
      },
      "execution_count": null,
      "outputs": [
        {
          "output_type": "stream",
          "name": "stdout",
          "text": [
            "Fetched 30, the latests is on 2021-07-29 19:16:21+00:00\n",
            "Fetched 30, the latests is on 2021-08-22 13:35:13+00:00\n",
            "Fetched 30, the latests is on 2021-09-20 15:51:13+00:00\n",
            "Fetched 30, the latests is on 2021-10-18 13:56:00+00:00\n",
            "Fetched 30, the latests is on 2021-11-24 17:35:49+00:00\n",
            "Fetched 30, the latests is on 2021-12-18 20:32:42+00:00\n",
            "Fetched 30, the latests is on 2022-01-16 16:17:00+00:00\n",
            "Fetched 30, the latests is on 2022-02-10 16:52:43+00:00\n",
            "Fetched 30, the latests is on 2022-03-09 15:02:16+00:00\n",
            "Fetched 30, the latests is on 2022-04-06 01:15:23+00:00\n",
            "Fetched 30, the latests is on 2022-05-02 15:58:11+00:00\n",
            "Fetched 30, the latests is on 2022-05-26 23:32:00+00:00\n",
            "Fetched 30, the latests is on 2022-06-29 14:00:11+00:00\n",
            "Fetched 8, the latests is on 2022-07-06 01:11:48+00:00\n"
          ]
        }
      ]
    },
    {
      "cell_type": "code",
      "source": [
        "import pandas as pd"
      ],
      "metadata": {
        "id": "BFuDoCzAPrc3"
      },
      "execution_count": null,
      "outputs": []
    },
    {
      "cell_type": "code",
      "source": [
        "column_names = [\"distance\", \"weekday\",\"start_date\"]\n",
        "\n",
        "df = pd.DataFrame(columns = column_names)\n",
        "\n",
        "for i in range(len(activities)):\n",
        "  if(activities[i].type == 'Run'):\n",
        "    df2 = {'distance': activities[i].distance, 'weekday': activities[i].start_date.weekday(),'start_date':activities[i].start_date}\n",
        "    df = df.append(df2, ignore_index = True)\n",
        "  \n"
      ],
      "metadata": {
        "id": "LpqED2whHzPs"
      },
      "execution_count": null,
      "outputs": []
    },
    {
      "cell_type": "code",
      "source": [
        "start = df[df.weekday==0].first_valid_index()\n",
        "\n",
        "#might have to switch due to long run ending on whatever day \n",
        "end = df[df.weekday==5].last_valid_index() + 1"
      ],
      "metadata": {
        "id": "u2lWlQbUZjsl"
      },
      "execution_count": null,
      "outputs": []
    },
    {
      "cell_type": "code",
      "source": [
        "df = df.iloc[start:end]"
      ],
      "metadata": {
        "id": "srC_4SangnXO"
      },
      "execution_count": null,
      "outputs": []
    },
    {
      "cell_type": "code",
      "source": [
        "df = df.reset_index()"
      ],
      "metadata": {
        "id": "CqeaRAaifbLN"
      },
      "execution_count": null,
      "outputs": []
    },
    {
      "cell_type": "code",
      "source": [
        "del df['index']"
      ],
      "metadata": {
        "id": "DFBy3KBttMfW"
      },
      "execution_count": null,
      "outputs": []
    },
    {
      "cell_type": "code",
      "source": [
        "column_names = [\"Mon\",\"m2\",\"Tues\",\"tu2\",\"Wed\",\"w2\",\"Thurs\",\"th2\",\"Fri\",\"f2\",\"Sat\",\"sa2\",\"Sun\",\"su2\"]\n",
        "\n",
        "ml_df = pd.DataFrame(columns = column_names)"
      ],
      "metadata": {
        "id": "g0QHa03iiO_i"
      },
      "execution_count": null,
      "outputs": []
    },
    {
      "cell_type": "code",
      "source": [
        "j = 0\n",
        "ml_df.loc[j, ml_df.iloc[:,2 * df.loc[0].weekday].name] = df.loc[0].distance / 1609"
      ],
      "metadata": {
        "id": "VCsT7FDff3HZ"
      },
      "execution_count": null,
      "outputs": []
    },
    {
      "cell_type": "code",
      "source": [
        "j = 0 #current row value / doesn't entirely work but whatever \n",
        "for i in range(len(df)-1): #always adding / analyzing value i+1\n",
        "\n",
        "  #if value < prev_value\n",
        "  if(df.loc[i+1].weekday < df.loc[i].weekday):\n",
        "    j = j + 1 #new row & add the value into new row\n",
        "    ml_df.loc[j, ml_df.iloc[:,2 * df.loc[i+1].weekday].name] = df.loc[i+1].distance / 1609\n",
        "    continue\n",
        "\n",
        "  # value > 7 day = new row / this shouldn't impact my data specfically (never had a week fully off)\n",
        "  if(df.loc[i+1].start_date.day - df.loc[i].start_date.day > 6 and df.loc[i+1].start_date.month == df.loc[i].start_date.month):\n",
        "    j = j + 1 \n",
        "    ml_df.loc[j, ml_df.iloc[:,2 * df.loc[i+1].weekday].name] = df.loc[i+1].distance / 1609\n",
        "    continue\n",
        "\n",
        "  if(df.loc[i+1].weekday == df.loc[i].weekday):\n",
        "    if(df.loc[i+1].start_date.hour - df.loc[i].start_date.hour > 6): #6 hour difference = double \n",
        "      ml_df.loc[j, ml_df.iloc[:,2 * df.loc[i+1].weekday + 1].name] = df.loc[i+1].distance / 1609\n",
        "\n",
        "    else: \n",
        "      ml_df.loc[j, ml_df.iloc[:,2 * df.loc[i+1].weekday].name] = df.loc[i].distance / 1609 + df.loc[i+1].distance / 1609\n",
        "  \n",
        "  else: \n",
        "    ml_df.loc[j, ml_df.iloc[:,2 * df.loc[i+1].weekday].name] = df.loc[i+1].distance / 1609\n",
        "\n",
        "\n",
        "ml_df = ml_df.fillna(0)\n",
        "ml_df = ml_df.sort_index()"
      ],
      "metadata": {
        "id": "Xc4KlmF4rDj9"
      },
      "execution_count": null,
      "outputs": []
    },
    {
      "cell_type": "code",
      "source": [
        "pd.set_option('display.max_rows', 500)\n",
        "pd.set_option('display.max_columns', 500)\n",
        "pd.set_option('display.width', 150)"
      ],
      "metadata": {
        "id": "L3Pv4zcHlrWd"
      },
      "execution_count": null,
      "outputs": []
    },
    {
      "cell_type": "code",
      "source": [
        "tot_dist = ml_df.sum(axis = 1)"
      ],
      "metadata": {
        "id": "sPtYqqMOn-CO"
      },
      "execution_count": null,
      "outputs": []
    },
    {
      "cell_type": "code",
      "source": [
        "import numpy as np\n",
        "from sklearn.linear_model import LinearRegression\n",
        "from sklearn.model_selection import train_test_split\n",
        "\n",
        "x_train, x_test, y_train, y_test = train_test_split(tot_dist.to_numpy().reshape(-1,1), ml_df, test_size = 0.3, random_state=0)\n",
        "data = LinearRegression()\n",
        "#x_train = tot_dist.to_numpy().reshape(-1,1)\n",
        "data.fit(x_train, y_train)\n",
        "y_pred = data.predict(x_test)\n"
      ],
      "metadata": {
        "colab": {
          "base_uri": "https://localhost:8080/",
          "height": 236
        },
        "id": "b_wGXVNz0DC9",
        "outputId": "95b44b1b-b154-45e4-92eb-c524dabd51bd"
      },
      "execution_count": 1,
      "outputs": [
        {
          "output_type": "error",
          "ename": "NameError",
          "evalue": "ignored",
          "traceback": [
            "\u001b[0;31m---------------------------------------------------------------------------\u001b[0m",
            "\u001b[0;31mNameError\u001b[0m                                 Traceback (most recent call last)",
            "\u001b[0;32m<ipython-input-1-fe7832030a88>\u001b[0m in \u001b[0;36m<module>\u001b[0;34m()\u001b[0m\n\u001b[1;32m      3\u001b[0m \u001b[0;32mfrom\u001b[0m \u001b[0msklearn\u001b[0m\u001b[0;34m.\u001b[0m\u001b[0mmodel_selection\u001b[0m \u001b[0;32mimport\u001b[0m \u001b[0mtrain_test_split\u001b[0m\u001b[0;34m\u001b[0m\u001b[0;34m\u001b[0m\u001b[0m\n\u001b[1;32m      4\u001b[0m \u001b[0;34m\u001b[0m\u001b[0m\n\u001b[0;32m----> 5\u001b[0;31m \u001b[0mx_train\u001b[0m\u001b[0;34m,\u001b[0m \u001b[0mx_test\u001b[0m\u001b[0;34m,\u001b[0m \u001b[0my_train\u001b[0m\u001b[0;34m,\u001b[0m \u001b[0my_test\u001b[0m \u001b[0;34m=\u001b[0m \u001b[0mtrain_test_split\u001b[0m\u001b[0;34m(\u001b[0m\u001b[0mtot_dist\u001b[0m\u001b[0;34m.\u001b[0m\u001b[0mto_numpy\u001b[0m\u001b[0;34m(\u001b[0m\u001b[0;34m)\u001b[0m\u001b[0;34m.\u001b[0m\u001b[0mreshape\u001b[0m\u001b[0;34m(\u001b[0m\u001b[0;34m-\u001b[0m\u001b[0;36m1\u001b[0m\u001b[0;34m,\u001b[0m\u001b[0;36m1\u001b[0m\u001b[0;34m)\u001b[0m\u001b[0;34m,\u001b[0m \u001b[0mml_df\u001b[0m\u001b[0;34m,\u001b[0m \u001b[0mtest_size\u001b[0m \u001b[0;34m=\u001b[0m \u001b[0;36m0.3\u001b[0m\u001b[0;34m,\u001b[0m \u001b[0mrandom_state\u001b[0m\u001b[0;34m=\u001b[0m\u001b[0;36m0\u001b[0m\u001b[0;34m)\u001b[0m\u001b[0;34m\u001b[0m\u001b[0;34m\u001b[0m\u001b[0m\n\u001b[0m\u001b[1;32m      6\u001b[0m \u001b[0mdata\u001b[0m \u001b[0;34m=\u001b[0m \u001b[0mLinearRegression\u001b[0m\u001b[0;34m(\u001b[0m\u001b[0;34m)\u001b[0m\u001b[0;34m\u001b[0m\u001b[0;34m\u001b[0m\u001b[0m\n\u001b[1;32m      7\u001b[0m \u001b[0;31m#x_train = tot_dist.to_numpy().reshape(-1,1)\u001b[0m\u001b[0;34m\u001b[0m\u001b[0;34m\u001b[0m\u001b[0;34m\u001b[0m\u001b[0m\n",
            "\u001b[0;31mNameError\u001b[0m: name 'tot_dist' is not defined"
          ]
        }
      ]
    },
    {
      "cell_type": "code",
      "source": [
        "#input mileage for the week\n",
        "data.predict([[75]])"
      ],
      "metadata": {
        "colab": {
          "base_uri": "https://localhost:8080/"
        },
        "id": "RECCaLXp4BU8",
        "outputId": "6985f3a2-9923-405a-8a90-c60d6ae1df38"
      },
      "execution_count": null,
      "outputs": [
        {
          "output_type": "execute_result",
          "data": {
            "text/plain": [
              "array([[ 9.76796588,  0.46135389, 10.16511594,  0.67269019, 10.70150669,\n",
              "         1.6817579 ,  9.26732348,  1.06704552, 10.7843755 ,  0.34989475,\n",
              "         4.84030376,  0.90391907, 13.97991797,  0.35682946]])"
            ]
          },
          "metadata": {},
          "execution_count": 26
        }
      ]
    },
    {
      "cell_type": "markdown",
      "source": [
        "For the most part quite accurate, aside from wanting to double everyday, I have found that you could combine the miles from the doubles to one / two days. But it does show Sunday Long Run (longest run of the week), Saturday as low mileage easy day, Wednesday as 2nd longest run of the week. And monday/tues/thurs as around the same distance and used for getting some miles in. "
      ],
      "metadata": {
        "id": "V2MC1qVe68Rr"
      }
    }
  ]
}